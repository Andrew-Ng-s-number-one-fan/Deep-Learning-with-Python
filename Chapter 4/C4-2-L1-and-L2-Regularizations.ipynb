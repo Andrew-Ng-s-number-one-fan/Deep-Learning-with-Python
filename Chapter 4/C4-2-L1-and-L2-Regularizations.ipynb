{
 "cells": [
  {
   "cell_type": "markdown",
   "metadata": {},
   "source": [
    "## L1 and L2 Regularizations"
   ]
  },
  {
   "cell_type": "code",
   "execution_count": null,
   "metadata": {
    "collapsed": true
   },
   "outputs": [],
   "source": [
    "from keras import regularizers\n",
    "\n",
    "# L1 regularization\n",
    "regularizers.l1(0.001)"
   ]
  },
  {
   "cell_type": "code",
   "execution_count": null,
   "metadata": {
    "collapsed": true
   },
   "outputs": [],
   "source": [
    "# L2 regularization\n",
    "model = tf.keras.models.Sequential([\n",
    "    tf.keras.layers.Dense(16, \n",
    "                          kernel_regularizer=regularizers.l2(0.001),\n",
    "                          activation='relu',\n",
    "                          input_shape=(10000,)),\n",
    "    tf.keras.layers.Dense(16,\n",
    "                          kernel_regularizer=regularizers.l2(0.001),\n",
    "                          activation='relu'),\n",
    "    tf.keras.layers.Dense(1,\n",
    "                          activation='sigmoid')\n",
    "])\n",
    "\n",
    "# regularizers.l2(0.001)指使用L2 regularization，该层权重矩阵的每个系数都会使网络总loss增加0.001 * weight_coefficient_value"
   ]
  },
  {
   "cell_type": "code",
   "execution_count": null,
   "metadata": {
    "collapsed": true
   },
   "outputs": [],
   "source": [
    "# 同时做 L1 and L2\n",
    "regularizer.l1_l2(l1=0.001, l2=0.001)"
   ]
  }
 ],
 "metadata": {
  "kernelspec": {
   "display_name": "Python 3",
   "language": "python",
   "name": "python3"
  },
  "language_info": {
   "codemirror_mode": {
    "name": "ipython",
    "version": 3
   },
   "file_extension": ".py",
   "mimetype": "text/x-python",
   "name": "python",
   "nbconvert_exporter": "python",
   "pygments_lexer": "ipython3",
   "version": "3.6.9"
  }
 },
 "nbformat": 4,
 "nbformat_minor": 2
}
