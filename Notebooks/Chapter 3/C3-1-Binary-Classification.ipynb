{
 "cells": [
  {
   "cell_type": "markdown",
   "metadata": {},
   "source": [
    "## 电影评论分类：Binary Classification Problem"
   ]
  },
  {
   "cell_type": "code",
   "execution_count": 1,
   "metadata": {},
   "outputs": [
    {
     "name": "stderr",
     "output_type": "stream",
     "text": [
      "/Users/dongdongdongdong/anaconda3/lib/python3.6/site-packages/h5py/__init__.py:34: FutureWarning: Conversion of the second argument of issubdtype from `float` to `np.floating` is deprecated. In future, it will be treated as `np.float64 == np.dtype(float).type`.\n",
      "  from ._conv import register_converters as _register_converters\n",
      "Using TensorFlow backend.\n"
     ]
    }
   ],
   "source": [
    "import tensorflow as tf\n",
    "from keras.datasets import imdb\n",
    "\n",
    "(train_data, train_labels), (test_data, test_labels) = imdb.load_data(num_words=10000)"
   ]
  },
  {
   "cell_type": "code",
   "execution_count": 15,
   "metadata": {},
   "outputs": [
    {
     "data": {
      "text/plain": [
       "((25000,), (25000,), (25000,), (25000,))"
      ]
     },
     "execution_count": 15,
     "metadata": {},
     "output_type": "execute_result"
    }
   ],
   "source": [
    "train_data.shape, train_labels.shape, test_data.shape, test_labels.shape"
   ]
  },
  {
   "cell_type": "markdown",
   "metadata": {},
   "source": [
    "#### 👇由于限定为前10000个最常见的单词（num_words=10000），所以单词索引都不会超过10000："
   ]
  },
  {
   "cell_type": "code",
   "execution_count": 16,
   "metadata": {},
   "outputs": [
    {
     "data": {
      "text/plain": [
       "9999"
      ]
     },
     "execution_count": 16,
     "metadata": {},
     "output_type": "execute_result"
    }
   ],
   "source": [
    "max([max(sequence) for sequence in train_data])"
   ]
  },
  {
   "cell_type": "markdown",
   "metadata": {},
   "source": [
    "#### 👇将某条评论解码为单词："
   ]
  },
  {
   "cell_type": "code",
   "execution_count": 23,
   "metadata": {
    "collapsed": true
   },
   "outputs": [],
   "source": [
    "word_index = imdb.get_word_index() # word_index 是一个将单词映射为整数索引的字典\n",
    "\n",
    "reverse_word_index = dict(\n",
    "    [(value, key) for (key, value) in word_index.items()]) # 键值颠倒，将整数索引映射为单词\n",
    "\n",
    "decoded_review = ' '.join(\n",
    "    [reverse_word_index.get(i - 3, '?') for i in train_data[12]]) \n",
    "    # 将评论解码。注意，索引减去了3， 因为0、1、2是为 “padding”、“start of sequence”、“unknown” 分别保留的索引"
   ]
  },
  {
   "cell_type": "code",
   "execution_count": 24,
   "metadata": {},
   "outputs": [
    {
     "data": {
      "text/plain": [
       "\"? i love cheesy horror flicks i don't care if the acting is sub par or whether the monsters look corny i liked this movie except for the ? feeling all the way from the beginning of the film to the very end look i don't need a 10 page ? or a sign with big letters explaining a plot to me but dark floors takes the what is this movie about thing to a whole new annoying level what is this movie about br br this isn't exceptionally scary or thrilling but if you have an hour and a half to kill and or you want to end up feeling frustrated and confused rent this winner\""
      ]
     },
     "execution_count": 24,
     "metadata": {},
     "output_type": "execute_result"
    }
   ],
   "source": [
    "decoded_review"
   ]
  },
  {
   "cell_type": "markdown",
   "metadata": {},
   "source": [
    "#### 👇准备数据：将整数序列编码为二进制矩阵"
   ]
  },
  {
   "cell_type": "code",
   "execution_count": 29,
   "metadata": {},
   "outputs": [],
   "source": [
    "import numpy as np\n",
    "\n",
    "def vectorize_sequences(sequences, dimension=10000):\n",
    "    results = np.zeros((len(sequences), dimension)) # 创建一个形状为(len(sequences), dimension)的零矩阵\n",
    "    for i, sequence in enumerate(sequences):\n",
    "        results[i, sequence] = 1.0\n",
    "    return results\n",
    "\n",
    "x_train = vectorize_sequences(train_data)\n",
    "x_test = vectorize_sequences(test_data)"
   ]
  },
  {
   "cell_type": "code",
   "execution_count": 31,
   "metadata": {},
   "outputs": [
    {
     "data": {
      "text/plain": [
       "array([0., 1., 1., ..., 0., 0., 0.])"
      ]
     },
     "execution_count": 31,
     "metadata": {},
     "output_type": "execute_result"
    }
   ],
   "source": [
    "x_train[0]"
   ]
  },
  {
   "cell_type": "code",
   "execution_count": 32,
   "metadata": {
    "collapsed": true
   },
   "outputs": [],
   "source": [
    "y_train = np.asarray(train_labels).astype('float32')\n",
    "y_test = np.asarray(test_labels).astype('float32')"
   ]
  },
  {
   "cell_type": "code",
   "execution_count": 35,
   "metadata": {},
   "outputs": [
    {
     "data": {
      "text/plain": [
       "1.0"
      ]
     },
     "execution_count": 35,
     "metadata": {},
     "output_type": "execute_result"
    }
   ],
   "source": [
    "y_train[0]"
   ]
  },
  {
   "cell_type": "markdown",
   "metadata": {},
   "source": [
    "#### 👇构建网络"
   ]
  },
  {
   "cell_type": "code",
   "execution_count": 38,
   "metadata": {},
   "outputs": [],
   "source": [
    "model = tf.keras.models.Sequential([\n",
    "    tf.keras.layers.Dense(16, activation='relu', input_shape=(10000,)),\n",
    "    tf.keras.layers.Dense(16, activation='relu'),\n",
    "    tf.keras.layers.Dense(1,  activation='sigmoid')])"
   ]
  },
  {
   "cell_type": "code",
   "execution_count": 40,
   "metadata": {},
   "outputs": [
    {
     "name": "stdout",
     "output_type": "stream",
     "text": [
      "Model: \"sequential\"\n",
      "_________________________________________________________________\n",
      "Layer (type)                 Output Shape              Param #   \n",
      "=================================================================\n",
      "dense (Dense)                (None, 16)                160016    \n",
      "_________________________________________________________________\n",
      "dense_1 (Dense)              (None, 16)                272       \n",
      "_________________________________________________________________\n",
      "dense_2 (Dense)              (None, 1)                 17        \n",
      "=================================================================\n",
      "Total params: 160,305\n",
      "Trainable params: 160,305\n",
      "Non-trainable params: 0\n",
      "_________________________________________________________________\n"
     ]
    }
   ],
   "source": [
    "model.summary()"
   ]
  },
  {
   "cell_type": "markdown",
   "metadata": {},
   "source": [
    "#### 👇编译模型（配置优化器版本）"
   ]
  },
  {
   "cell_type": "code",
   "execution_count": 45,
   "metadata": {},
   "outputs": [],
   "source": [
    "from keras import optimizers\n",
    "from keras import losses\n",
    "from keras import metrics\n",
    "\n",
    "model.compile(optimizer=tf.keras.optimizers.RMSprop(lr=0.001),\n",
    "              loss=tf.keras.losses.binary_crossentropy,\n",
    "              metrics=[metrics.binary_accuracy])"
   ]
  },
  {
   "cell_type": "markdown",
   "metadata": {},
   "source": [
    "#### 👇划分验证集"
   ]
  },
  {
   "cell_type": "code",
   "execution_count": 46,
   "metadata": {
    "collapsed": true
   },
   "outputs": [],
   "source": [
    "x_val = x_train[:10000]\n",
    "partial_x_train = x_train[10000:]\n",
    "\n",
    "y_val = y_train[:10000]\n",
    "partial_y_train = y_train[10000:]"
   ]
  },
  {
   "cell_type": "markdown",
   "metadata": {},
   "source": [
    "#### 👇训练模型"
   ]
  },
  {
   "cell_type": "code",
   "execution_count": 49,
   "metadata": {},
   "outputs": [
    {
     "name": "stdout",
     "output_type": "stream",
     "text": [
      "Train on 15000 samples, validate on 10000 samples\n",
      "Epoch 1/20\n",
      "15000/15000 [==============================] - 3s 167us/sample - loss: 0.5260 - acc: 0.7834 - val_loss: 0.4058 - val_acc: 0.8655\n",
      "Epoch 2/20\n",
      "15000/15000 [==============================] - 2s 118us/sample - loss: 0.3189 - acc: 0.9029 - val_loss: 0.3177 - val_acc: 0.8822\n",
      "Epoch 3/20\n",
      "15000/15000 [==============================] - 2s 115us/sample - loss: 0.2352 - acc: 0.9253 - val_loss: 0.2818 - val_acc: 0.8917\n",
      "Epoch 4/20\n",
      "15000/15000 [==============================] - 2s 113us/sample - loss: 0.1871 - acc: 0.9399 - val_loss: 0.2765 - val_acc: 0.8899\n",
      "Epoch 5/20\n",
      "15000/15000 [==============================] - 2s 110us/sample - loss: 0.1509 - acc: 0.9524 - val_loss: 0.3009 - val_acc: 0.8815\n",
      "Epoch 6/20\n",
      "15000/15000 [==============================] - 2s 115us/sample - loss: 0.1260 - acc: 0.9615 - val_loss: 0.2866 - val_acc: 0.8888\n",
      "Epoch 7/20\n",
      "15000/15000 [==============================] - 2s 112us/sample - loss: 0.1062 - acc: 0.9668 - val_loss: 0.3009 - val_acc: 0.8869\n",
      "Epoch 8/20\n",
      "15000/15000 [==============================] - 2s 120us/sample - loss: 0.0862 - acc: 0.9759 - val_loss: 0.3189 - val_acc: 0.8835\n",
      "Epoch 9/20\n",
      "15000/15000 [==============================] - 2s 114us/sample - loss: 0.0709 - acc: 0.9817 - val_loss: 0.3552 - val_acc: 0.8795\n",
      "Epoch 10/20\n",
      "15000/15000 [==============================] - 2s 112us/sample - loss: 0.0615 - acc: 0.9843 - val_loss: 0.3631 - val_acc: 0.8799\n",
      "Epoch 11/20\n",
      "15000/15000 [==============================] - 2s 120us/sample - loss: 0.0490 - acc: 0.9885 - val_loss: 0.4075 - val_acc: 0.8721\n",
      "Epoch 12/20\n",
      "15000/15000 [==============================] - 2s 117us/sample - loss: 0.0389 - acc: 0.9918 - val_loss: 0.4159 - val_acc: 0.8758\n",
      "Epoch 13/20\n",
      "15000/15000 [==============================] - 2s 109us/sample - loss: 0.0329 - acc: 0.9937 - val_loss: 0.4470 - val_acc: 0.8762\n",
      "Epoch 14/20\n",
      "15000/15000 [==============================] - 2s 111us/sample - loss: 0.0270 - acc: 0.9946 - val_loss: 0.4750 - val_acc: 0.8699\n",
      "Epoch 15/20\n",
      "15000/15000 [==============================] - 2s 107us/sample - loss: 0.0220 - acc: 0.9968 - val_loss: 0.5098 - val_acc: 0.8722\n",
      "Epoch 16/20\n",
      "15000/15000 [==============================] - 2s 111us/sample - loss: 0.0176 - acc: 0.9977 - val_loss: 0.5408 - val_acc: 0.8715\n",
      "Epoch 17/20\n",
      "15000/15000 [==============================] - 2s 108us/sample - loss: 0.0111 - acc: 0.9992 - val_loss: 0.5704 - val_acc: 0.8693\n",
      "Epoch 18/20\n",
      "15000/15000 [==============================] - 2s 111us/sample - loss: 0.0126 - acc: 0.9977 - val_loss: 0.6085 - val_acc: 0.8676\n",
      "Epoch 19/20\n",
      "15000/15000 [==============================] - 2s 110us/sample - loss: 0.0065 - acc: 0.9995 - val_loss: 0.6851 - val_acc: 0.8643\n",
      "Epoch 20/20\n",
      "15000/15000 [==============================] - 2s 115us/sample - loss: 0.0068 - acc: 0.9992 - val_loss: 0.6818 - val_acc: 0.8645\n"
     ]
    }
   ],
   "source": [
    "model.compile(optimizer='rmsprop',\n",
    "              loss='binary_crossentropy',\n",
    "              metrics=['acc'])\n",
    "\n",
    "history = model.fit(partial_x_train,\n",
    "                    partial_y_train,\n",
    "                    epochs=20,\n",
    "                    batch_size=512,\n",
    "                    validation_data=(x_val, y_val))"
   ]
  },
  {
   "cell_type": "code",
   "execution_count": 52,
   "metadata": {},
   "outputs": [
    {
     "data": {
      "text/plain": [
       "dict_keys(['loss', 'acc', 'val_loss', 'val_acc'])"
      ]
     },
     "execution_count": 52,
     "metadata": {},
     "output_type": "execute_result"
    }
   ],
   "source": [
    "history_dict = history.history\n",
    "history_dict.keys()"
   ]
  },
  {
   "cell_type": "markdown",
   "metadata": {},
   "source": [
    "#### 👇绘制 training loss 和 validation loss 曲线"
   ]
  },
  {
   "cell_type": "code",
   "execution_count": 59,
   "metadata": {},
   "outputs": [
    {
     "data": {
      "image/png": "[encoded data removed]",
      "text/plain": [
       "<matplotlib.figure.Figure at 0x134ee6588>"
      ]
     },
     "metadata": {},
     "output_type": "display_data"
    }
   ],
   "source": [
    "import matplotlib.pyplot as plt\n",
    "\n",
    "history_dict = history.history\n",
    "loss_values = history_dict['loss']\n",
    "val_loss_values = history_dict['val_loss']\n",
    "\n",
    "epochs = range(1, len(loss_values) + 1)\n",
    "\n",
    "plt.plot(epochs, loss_values, 'bo', label='Training Loss')\n",
    "plt.plot(epochs, val_loss_values, 'b', label='Validation Loss')\n",
    "plt.title('Training and Validation Losses')\n",
    "plt.xlabel('Epochs')\n",
    "plt.ylabel('Loss')\n",
    "plt.legend()\n",
    "\n",
    "plt.show()"
   ]
  },
  {
   "cell_type": "markdown",
   "metadata": {},
   "source": [
    "#### 👇绘制 training accuracy 和 validation accuracy 曲线"
   ]
  },
  {
   "cell_type": "code",
   "execution_count": 64,
   "metadata": {},
   "outputs": [
    {
     "data": {
      "image/png": "[encoded data removed]",
      "text/plain": [
       "<matplotlib.figure.Figure at 0x1358d69e8>"
      ]
     },
     "metadata": {},
     "output_type": "display_data"
    }
   ],
   "source": [
    "plt.clf() # 清空图像\n",
    "\n",
    "acc = history_dict['acc']\n",
    "val_acc = history_dict['val_acc']\n",
    "\n",
    "plt.plot(epochs, acc, 'bo', label='Training Accuracy')\n",
    "plt.plot(epochs, val_acc, 'b', label='Validation Accuracy')\n",
    "plt.title('Training and Validation Accuracies')\n",
    "plt.xlabel('Epoch')\n",
    "plt.ylabel('Accuracy')\n",
    "plt.legend()\n",
    "\n",
    "plt.show()"
   ]
  },
  {
   "cell_type": "markdown",
   "metadata": {},
   "source": [
    "#### 🔍：在 Validation Set 上，Accuracy 从第3个 epoch 开始下降，过拟合。"
   ]
  },
  {
   "cell_type": "markdown",
   "metadata": {},
   "source": [
    "#### 👇从头开始重新训练一个模型"
   ]
  },
  {
   "cell_type": "code",
   "execution_count": 65,
   "metadata": {},
   "outputs": [
    {
     "name": "stdout",
     "output_type": "stream",
     "text": [
      "Epoch 1/4\n",
      "25000/25000 [==============================] - 2s 67us/sample - loss: 0.4576 - accuracy: 0.8201\n",
      "Epoch 2/4\n",
      "25000/25000 [==============================] - 1s 59us/sample - loss: 0.2633 - accuracy: 0.9108\n",
      "Epoch 3/4\n",
      "25000/25000 [==============================] - 1s 59us/sample - loss: 0.2031 - accuracy: 0.9286\n",
      "Epoch 4/4\n",
      "25000/25000 [==============================] - 2s 62us/sample - loss: 0.1689 - accuracy: 0.9409\n",
      "25000/25000 [==============================] - 2s 81us/sample - loss: 0.2918 - accuracy: 0.8856\n"
     ]
    }
   ],
   "source": [
    "model = tf.keras.models.Sequential([\n",
    "    tf.keras.layers.Dense(16, activation='relu', input_shape=(10000,)),\n",
    "    tf.keras.layers.Dense(16, activation='relu'),\n",
    "    tf.keras.layers.Dense(1,  activation='sigmoid')])\n",
    "\n",
    "model.compile(optimizer='rmsprop',\n",
    "              loss='binary_crossentropy',\n",
    "              metrics=['accuracy'])\n",
    "\n",
    "model.fit(x_train, y_train, epochs=4, batch_size=512)\n",
    "\n",
    "results = model.evaluate(x_test, y_test)"
   ]
  },
  {
   "cell_type": "markdown",
   "metadata": {},
   "source": [
    "#### 👇使用训练好的网络在新数据集上生成预测结果"
   ]
  },
  {
   "cell_type": "code",
   "execution_count": 66,
   "metadata": {},
   "outputs": [
    {
     "data": {
      "text/plain": [
       "array([[0.1847243 ],\n",
       "       [0.9999729 ],\n",
       "       [0.9094711 ],\n",
       "       ...,\n",
       "       [0.1273562 ],\n",
       "       [0.07859519],\n",
       "       [0.56166947]], dtype=float32)"
      ]
     },
     "execution_count": 66,
     "metadata": {},
     "output_type": "execute_result"
    }
   ],
   "source": [
    "model.predict(x_test)"
   ]
  },
  {
   "cell_type": "code",
   "execution_count": null,
   "metadata": {
    "collapsed": true
   },
   "outputs": [],
   "source": []
  }
 ],
 "metadata": {
  "kernelspec": {
   "display_name": "Python 3",
   "language": "python",
   "name": "python3"
  },
  "language_info": {
   "codemirror_mode": {
    "name": "ipython",
    "version": 3
   },
   "file_extension": ".py",
   "mimetype": "text/x-python",
   "name": "python",
   "nbconvert_exporter": "python",
   "pygments_lexer": "ipython3",
   "version": "3.6.9"
  }
 },
 "nbformat": 4,
 "nbformat_minor": 2
}
