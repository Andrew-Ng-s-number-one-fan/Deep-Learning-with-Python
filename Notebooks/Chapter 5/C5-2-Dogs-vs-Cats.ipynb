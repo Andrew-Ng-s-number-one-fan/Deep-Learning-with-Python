{
 "cells": [
  {
   "cell_type": "markdown",
   "metadata": {},
   "source": [
    "## 在小型数据集上从头开始训练一个CNN"
   ]
  },
  {
   "cell_type": "markdown",
   "metadata": {},
   "source": [
    "### Step 1：将图像复制到training、validation和test的目录下"
   ]
  },
  {
   "cell_type": "code",
   "execution_count": 1,
   "metadata": {
    "collapsed": true
   },
   "outputs": [],
   "source": [
    "import os, shutil\n",
    "\n",
    "# 原始数据集目录\n",
    "original_dataset_dir = '/Users/dongdongdongdong/Desktop/dogs-vs-cats/train' \n",
    "\n",
    "# 保存较小数据集的目录\n",
    "base_dir = '/Users/dongdongdongdong/Desktop/dogs-vs-cats-small'\n",
    "os.mkdir(base_dir)\n",
    "\n",
    "# training set目录\n",
    "train_dir = os.path.join(base_dir, 'train')\n",
    "os.mkdir(train_dir)\n",
    "\n",
    "# validation set目录\n",
    "validation_dir = os.path.join(base_dir, 'validation')\n",
    "os.mkdir(validation_dir)\n",
    "\n",
    "# test set目录\n",
    "test_dir = os.path.join(base_dir, 'test')\n",
    "os.mkdir(test_dir)\n",
    "\n",
    "# 猫的training图像目录🐱\n",
    "train_cats_dir = os.path.join(train_dir, 'cats')\n",
    "os.mkdir(train_cats_dir)\n",
    "\n",
    "# 狗的training图像目录🐶\n",
    "train_dogs_dir = os.path.join(train_dir, 'dogs')\n",
    "os.mkdir(train_dogs_dir)\n",
    "\n",
    "# 猫的validation图像目录🐱\n",
    "validation_cats_dir = os.path.join(validation_dir, 'cats')\n",
    "os.mkdir(validation_cats_dir)\n",
    "\n",
    "# 狗的validation图像目录🐶\n",
    "validation_dogs_dir = os.path.join(validation_dir, 'dogs')\n",
    "os.mkdir(validation_dogs_dir)\n",
    "\n",
    "# 猫的test图像目录🐱\n",
    "test_cats_dir = os.path.join(test_dir, 'cats')\n",
    "os.mkdir(test_cats_dir)\n",
    "\n",
    "# 狗的test图像目录🐶\n",
    "test_dogs_dir = os.path.join(test_dir, 'dogs')\n",
    "os.mkdir(test_dogs_dir)\n",
    "\n",
    "# 将前1000张图像复制到train_cats_dir🐱\n",
    "fnames = ['cat.{}.jpg'.format(i) for i in range(1000)]\n",
    "for fname in fnames:\n",
    "    src = os.path.join(original_dataset_dir, fname)\n",
    "    dst = os.path.join(train_cats_dir, fname)\n",
    "    shutil.copyfile(src, dst)\n",
    "    \n",
    "# 将接下来500张图像复制到validation_cats_dir🐱\n",
    "fnames = ['cat.{}.jpg'.format(i) for i in range(1000, 1500)]\n",
    "for fname in fnames:\n",
    "    src = os.path.join(original_dataset_dir, fname)\n",
    "    dst = os.path.join(validation_cats_dir, fname)\n",
    "    shutil.copyfile(src, dst)\n",
    "\n",
    "# 将接下来500张图像复制到test_cats_dir🐱\n",
    "fnames = ['cat.{}.jpg'.format(i) for i in range(1500, 2000)]\n",
    "for fname in fnames:\n",
    "    src = os.path.join(original_dataset_dir, fname)\n",
    "    dst = os.path.join(test_cats_dir, fname)\n",
    "    shutil.copyfile(src, dst)\n",
    "    \n",
    "# 将前1000张图像复制到train_dogs_dir🐶\n",
    "fnames = ['dog.{}.jpg'.format(i) for i in range(1000)]\n",
    "for fname in fnames:\n",
    "    src = os.path.join(original_dataset_dir, fname)\n",
    "    dst = os.path.join(train_dogs_dir, fname)\n",
    "    shutil.copyfile(src, dst)\n",
    "    \n",
    "# 将接下来500张图像复制到validation_dogs_dir🐶\n",
    "fnames = ['dog.{}.jpg'.format(i) for i in range(1000, 1500)]\n",
    "for fname in fnames:\n",
    "    src = os.path.join(original_dataset_dir, fname)\n",
    "    dst = os.path.join(validation_dogs_dir, fname)\n",
    "    shutil.copyfile(src, dst)\n",
    "\n",
    "# 将接下来500张图像复制到test_dogs_dir🐶\n",
    "fnames = ['dog.{}.jpg'.format(i) for i in range(1500, 2000)]\n",
    "for fname in fnames:\n",
    "    src = os.path.join(original_dataset_dir, fname)\n",
    "    dst = os.path.join(test_dogs_dir, fname)\n",
    "    shutil.copyfile(src, dst)"
   ]
  },
  {
   "cell_type": "code",
   "execution_count": 2,
   "metadata": {},
   "outputs": [
    {
     "name": "stdout",
     "output_type": "stream",
     "text": [
      "total training cat images:  1000\n"
     ]
    }
   ],
   "source": [
    "print('total training cat images: ', len(os.listdir(train_cats_dir)))"
   ]
  },
  {
   "cell_type": "code",
   "execution_count": 3,
   "metadata": {},
   "outputs": [
    {
     "name": "stdout",
     "output_type": "stream",
     "text": [
      "total validation cat images:  500\n"
     ]
    }
   ],
   "source": [
    "print('total validation cat images: ', len(os.listdir(validation_cats_dir)))"
   ]
  },
  {
   "cell_type": "code",
   "execution_count": 4,
   "metadata": {},
   "outputs": [
    {
     "name": "stdout",
     "output_type": "stream",
     "text": [
      "total test cat images:  500\n"
     ]
    }
   ],
   "source": [
    "print('total test cat images: ', len(os.listdir(test_cats_dir)))"
   ]
  },
  {
   "cell_type": "code",
   "execution_count": 5,
   "metadata": {},
   "outputs": [
    {
     "name": "stdout",
     "output_type": "stream",
     "text": [
      "total training dog images:  1000\n"
     ]
    }
   ],
   "source": [
    "print('total training dog images: ', len(os.listdir(train_dogs_dir)))"
   ]
  },
  {
   "cell_type": "code",
   "execution_count": 6,
   "metadata": {},
   "outputs": [
    {
     "name": "stdout",
     "output_type": "stream",
     "text": [
      "total validation dog images:  500\n"
     ]
    }
   ],
   "source": [
    "print('total validation dog images: ', len(os.listdir(validation_dogs_dir)))"
   ]
  },
  {
   "cell_type": "code",
   "execution_count": 7,
   "metadata": {},
   "outputs": [
    {
     "name": "stdout",
     "output_type": "stream",
     "text": [
      "total test dog images:  500\n"
     ]
    }
   ],
   "source": [
    "print('total test dog images: ', len(os.listdir(test_dogs_dir)))"
   ]
  },
  {
   "cell_type": "markdown",
   "metadata": {},
   "source": [
    "### Step 2：构建网络"
   ]
  },
  {
   "cell_type": "code",
   "execution_count": 8,
   "metadata": {},
   "outputs": [
    {
     "name": "stderr",
     "output_type": "stream",
     "text": [
      "/Users/dongdongdongdong/anaconda3/lib/python3.6/site-packages/h5py/__init__.py:34: FutureWarning: Conversion of the second argument of issubdtype from `float` to `np.floating` is deprecated. In future, it will be treated as `np.float64 == np.dtype(float).type`.\n",
      "  from ._conv import register_converters as _register_converters\n"
     ]
    },
    {
     "name": "stdout",
     "output_type": "stream",
     "text": [
      "Model: \"sequential\"\n",
      "_________________________________________________________________\n",
      "Layer (type)                 Output Shape              Param #   \n",
      "=================================================================\n",
      "conv2d (Conv2D)              (None, 148, 148, 32)      896       \n",
      "_________________________________________________________________\n",
      "max_pooling2d (MaxPooling2D) (None, 74, 74, 32)        0         \n",
      "_________________________________________________________________\n",
      "conv2d_1 (Conv2D)            (None, 72, 72, 64)        18496     \n",
      "_________________________________________________________________\n",
      "max_pooling2d_1 (MaxPooling2 (None, 36, 36, 64)        0         \n",
      "_________________________________________________________________\n",
      "conv2d_2 (Conv2D)            (None, 34, 34, 128)       73856     \n",
      "_________________________________________________________________\n",
      "max_pooling2d_2 (MaxPooling2 (None, 17, 17, 128)       0         \n",
      "_________________________________________________________________\n",
      "conv2d_3 (Conv2D)            (None, 15, 15, 128)       147584    \n",
      "_________________________________________________________________\n",
      "max_pooling2d_3 (MaxPooling2 (None, 7, 7, 128)         0         \n",
      "_________________________________________________________________\n",
      "flatten (Flatten)            (None, 6272)              0         \n",
      "_________________________________________________________________\n",
      "dense (Dense)                (None, 512)               3211776   \n",
      "_________________________________________________________________\n",
      "dense_1 (Dense)              (None, 1)                 513       \n",
      "=================================================================\n",
      "Total params: 3,453,121\n",
      "Trainable params: 3,453,121\n",
      "Non-trainable params: 0\n",
      "_________________________________________________________________\n"
     ]
    }
   ],
   "source": [
    "import tensorflow as tf\n",
    "\n",
    "model = tf.keras.models.Sequential([\n",
    "    tf.keras.layers.Conv2D(32, (3, 3), activation='relu', input_shape=(150, 150, 3)),\n",
    "    tf.keras.layers.MaxPooling2D((2, 2)),\n",
    "    tf.keras.layers.Conv2D(64, (3, 3), activation='relu'),\n",
    "    tf.keras.layers.MaxPooling2D((2, 2)),\n",
    "    tf.keras.layers.Conv2D(128, (3, 3)),\n",
    "    tf.keras.layers.MaxPooling2D((2, 2)),\n",
    "    tf.keras.layers.Conv2D(128, (3, 3)),\n",
    "    tf.keras.layers.MaxPooling2D((2, 2)),\n",
    "    tf.keras.layers.Flatten(),\n",
    "    tf.keras.layers.Dense(512, activation='relu'),\n",
    "    tf.keras.layers.Dense(1, activation='sigmoid')\n",
    "])\n",
    "\n",
    "model.summary()"
   ]
  },
  {
   "cell_type": "code",
   "execution_count": 9,
   "metadata": {},
   "outputs": [
    {
     "name": "stderr",
     "output_type": "stream",
     "text": [
      "Using TensorFlow backend.\n"
     ]
    }
   ],
   "source": [
    "import keras\n",
    "from keras import optimizers\n",
    "\n",
    "model.compile(optimizer=tf.keras.optimizers.RMSprop(lr=1e-4),\n",
    "              loss='binary_crossentropy',\n",
    "              metrics=['acc'])"
   ]
  },
  {
   "cell_type": "markdown",
   "metadata": {},
   "source": [
    "### Step 3：使用ImageDataGenerator从目录中读取图像"
   ]
  },
  {
   "cell_type": "code",
   "execution_count": 10,
   "metadata": {},
   "outputs": [
    {
     "name": "stdout",
     "output_type": "stream",
     "text": [
      "Found 2000 images belonging to 2 classes.\n",
      "Found 1000 images belonging to 2 classes.\n"
     ]
    }
   ],
   "source": [
    "from keras.preprocessing.image import ImageDataGenerator\n",
    "\n",
    "# 将所有图像乘以 1/255 缩放\n",
    "train_datagen = ImageDataGenerator(rescale = 1.0 / 255)\n",
    "test_datagen = ImageDataGenerator(rescale = 1.0 / 255)\n",
    "\n",
    "train_generator = train_datagen.flow_from_directory(\n",
    "    train_dir,\n",
    "    target_size=(150, 150), # 将所有图像的大小调整为 150x150\n",
    "    batch_size=20,\n",
    "    class_mode='binary')\n",
    "\n",
    "validation_generator = test_datagen.flow_from_directory(\n",
    "    validation_dir,\n",
    "    target_size=(150, 150), # 将所有图像的大小调整为 150x150\n",
    "    batch_size=20,\n",
    "    class_mode='binary')"
   ]
  },
  {
   "cell_type": "code",
   "execution_count": 11,
   "metadata": {},
   "outputs": [
    {
     "name": "stdout",
     "output_type": "stream",
     "text": [
      "data batch shape:  (20, 150, 150, 3)\n",
      "labels batch shape:  (20,)\n"
     ]
    }
   ],
   "source": [
    "for data_batch, labels_batch in train_generator:\n",
    "    print('data batch shape: ', data_batch.shape)\n",
    "    print('labels batch shape: ', labels_batch.shape)\n",
    "    break"
   ]
  },
  {
   "cell_type": "markdown",
   "metadata": {},
   "source": [
    "### Step 4：训练"
   ]
  },
  {
   "cell_type": "code",
   "execution_count": 12,
   "metadata": {},
   "outputs": [
    {
     "name": "stdout",
     "output_type": "stream",
     "text": [
      "Epoch 1/30\n",
      "100/100 [==============================] - 41s 410ms/step - loss: 0.6802 - acc: 0.5635 - val_loss: 0.6602 - val_acc: 0.5750\n",
      "Epoch 2/30\n",
      "100/100 [==============================] - 40s 400ms/step - loss: 0.6071 - acc: 0.6585 - val_loss: 0.6484 - val_acc: 0.6090\n",
      "Epoch 3/30\n",
      "100/100 [==============================] - 39s 395ms/step - loss: 0.5479 - acc: 0.7175 - val_loss: 0.5993 - val_acc: 0.6740\n",
      "Epoch 4/30\n",
      "100/100 [==============================] - 41s 410ms/step - loss: 0.5179 - acc: 0.7420 - val_loss: 0.6052 - val_acc: 0.6670\n",
      "Epoch 5/30\n",
      "100/100 [==============================] - 39s 392ms/step - loss: 0.4821 - acc: 0.7630 - val_loss: 0.6060 - val_acc: 0.6690\n",
      "Epoch 6/30\n",
      "100/100 [==============================] - 41s 412ms/step - loss: 0.4494 - acc: 0.7835 - val_loss: 0.5683 - val_acc: 0.7010\n",
      "Epoch 7/30\n",
      "100/100 [==============================] - 44s 442ms/step - loss: 0.4213 - acc: 0.8090 - val_loss: 0.5700 - val_acc: 0.7120\n",
      "Epoch 8/30\n",
      "100/100 [==============================] - 45s 449ms/step - loss: 0.3825 - acc: 0.8390 - val_loss: 0.6210 - val_acc: 0.6900\n",
      "Epoch 9/30\n",
      "100/100 [==============================] - 45s 446ms/step - loss: 0.3440 - acc: 0.8610 - val_loss: 0.6106 - val_acc: 0.7130\n",
      "Epoch 10/30\n",
      "100/100 [==============================] - 58s 581ms/step - loss: 0.3057 - acc: 0.8800 - val_loss: 0.6014 - val_acc: 0.7060\n",
      "Epoch 11/30\n",
      "100/100 [==============================] - 51s 510ms/step - loss: 0.2635 - acc: 0.9005 - val_loss: 0.6285 - val_acc: 0.7250\n",
      "Epoch 12/30\n",
      "100/100 [==============================] - 42s 419ms/step - loss: 0.2215 - acc: 0.9150 - val_loss: 0.6850 - val_acc: 0.7040\n",
      "Epoch 13/30\n",
      "100/100 [==============================] - 43s 432ms/step - loss: 0.1850 - acc: 0.9335 - val_loss: 0.6738 - val_acc: 0.7190\n",
      "Epoch 14/30\n",
      "100/100 [==============================] - 55s 554ms/step - loss: 0.1496 - acc: 0.9545 - val_loss: 0.7983 - val_acc: 0.6840\n",
      "Epoch 15/30\n",
      "100/100 [==============================] - 44s 444ms/step - loss: 0.1160 - acc: 0.9670 - val_loss: 0.7747 - val_acc: 0.7170\n",
      "Epoch 16/30\n",
      "100/100 [==============================] - 42s 423ms/step - loss: 0.0980 - acc: 0.9710 - val_loss: 0.8558 - val_acc: 0.7080\n",
      "Epoch 17/30\n",
      "100/100 [==============================] - 41s 412ms/step - loss: 0.0716 - acc: 0.9820 - val_loss: 0.8921 - val_acc: 0.7150\n",
      "Epoch 18/30\n",
      "100/100 [==============================] - 48s 477ms/step - loss: 0.0548 - acc: 0.9870 - val_loss: 1.1073 - val_acc: 0.7040\n",
      "Epoch 19/30\n",
      "100/100 [==============================] - 54s 536ms/step - loss: 0.0436 - acc: 0.9900 - val_loss: 1.0180 - val_acc: 0.7050\n",
      "Epoch 20/30\n",
      "100/100 [==============================] - 55s 548ms/step - loss: 0.0267 - acc: 0.9970 - val_loss: 1.1430 - val_acc: 0.7030\n",
      "Epoch 21/30\n",
      "100/100 [==============================] - 54s 540ms/step - loss: 0.0206 - acc: 0.9980 - val_loss: 1.3167 - val_acc: 0.7110\n",
      "Epoch 22/30\n",
      "100/100 [==============================] - 54s 540ms/step - loss: 0.0163 - acc: 0.9955 - val_loss: 1.3168 - val_acc: 0.7130\n",
      "Epoch 23/30\n",
      "100/100 [==============================] - 53s 531ms/step - loss: 0.0147 - acc: 0.9955 - val_loss: 1.3805 - val_acc: 0.7040\n",
      "Epoch 24/30\n",
      "100/100 [==============================] - 49s 494ms/step - loss: 0.0147 - acc: 0.9960 - val_loss: 1.4568 - val_acc: 0.6960\n",
      "Epoch 25/30\n",
      "100/100 [==============================] - 46s 462ms/step - loss: 0.0065 - acc: 0.9990 - val_loss: 1.5510 - val_acc: 0.7000\n",
      "Epoch 26/30\n",
      "100/100 [==============================] - 52s 521ms/step - loss: 0.0057 - acc: 0.9995 - val_loss: 1.7714 - val_acc: 0.6860\n",
      "Epoch 27/30\n",
      "100/100 [==============================] - 53s 529ms/step - loss: 0.0037 - acc: 1.0000 - val_loss: 1.6966 - val_acc: 0.7120\n",
      "Epoch 28/30\n",
      "100/100 [==============================] - 53s 532ms/step - loss: 0.0021 - acc: 0.9995 - val_loss: 1.7589 - val_acc: 0.7110\n",
      "Epoch 29/30\n",
      "100/100 [==============================] - 51s 507ms/step - loss: 0.0043 - acc: 0.9990 - val_loss: 1.8996 - val_acc: 0.6950\n",
      "Epoch 30/30\n",
      "100/100 [==============================] - 53s 527ms/step - loss: 0.0035 - acc: 0.9995 - val_loss: 1.9958 - val_acc: 0.6870\n"
     ]
    }
   ],
   "source": [
    "history = model.fit_generator(train_generator,\n",
    "                              steps_per_epoch=100,\n",
    "                              epochs=30,\n",
    "                              validation_data=validation_generator,\n",
    "                              validation_steps=50)"
   ]
  },
  {
   "cell_type": "markdown",
   "metadata": {},
   "source": [
    "### Step 5：保存模型"
   ]
  },
  {
   "cell_type": "code",
   "execution_count": 13,
   "metadata": {
    "collapsed": true
   },
   "outputs": [],
   "source": [
    "model.save('cats_and_dogs_small_1.h5')"
   ]
  },
  {
   "cell_type": "code",
   "execution_count": 22,
   "metadata": {},
   "outputs": [
    {
     "data": {
      "text/plain": [
       "dict_keys(['loss', 'acc', 'val_loss', 'val_acc'])"
      ]
     },
     "execution_count": 22,
     "metadata": {},
     "output_type": "execute_result"
    }
   ],
   "source": [
    "history.history.keys()"
   ]
  },
  {
   "cell_type": "markdown",
   "metadata": {},
   "source": [
    "### Step 6：绘制loss和accuracy曲线"
   ]
  },
  {
   "cell_type": "code",
   "execution_count": 28,
   "metadata": {},
   "outputs": [
    {
     "data": {
      "image/png": "[encoded data removed]",
      "text/plain": [
       "<matplotlib.figure.Figure at 0x1394709b0>"
      ]
     },
     "metadata": {},
     "output_type": "display_data"
    },
    {
     "data": {
      "image/png": "[encoded data removed]",
      "text/plain": [
       "<matplotlib.figure.Figure at 0x13a068cc0>"
      ]
     },
     "metadata": {},
     "output_type": "display_data"
    }
   ],
   "source": [
    "import matplotlib.pyplot as plt\n",
    "\n",
    "loss = history.history['loss']\n",
    "val_loss = history.history['val_loss']\n",
    "\n",
    "acc = history.history['acc']\n",
    "val_acc = history.history['val_acc']\n",
    "\n",
    "epochs = range(1, len(loss) + 1)\n",
    "\n",
    "plt.plot(epochs, loss, 'bo', label='Training Loss')\n",
    "plt.plot(epochs, val_loss, 'b', label='Validation Loss')\n",
    "plt.xlabel('Epoch')\n",
    "plt.ylabel('Loss')\n",
    "plt.legend()\n",
    "\n",
    "plt.figure()\n",
    "\n",
    "plt.plot(epochs, acc, 'bo', label='Training Accuracy')\n",
    "plt.plot(epochs, val_acc, 'b', label='Validation Accuracy')\n",
    "plt.xlabel('Epoch')\n",
    "plt.ylabel('Accuracy')\n",
    "plt.legend()\n",
    "\n",
    "plt.show()"
   ]
  },
  {
   "cell_type": "code",
   "execution_count": null,
   "metadata": {
    "collapsed": true
   },
   "outputs": [],
   "source": []
  }
 ],
 "metadata": {
  "kernelspec": {
   "display_name": "Python 3",
   "language": "python",
   "name": "python3"
  },
  "language_info": {
   "codemirror_mode": {
    "name": "ipython",
    "version": 3
   },
   "file_extension": ".py",
   "mimetype": "text/x-python",
   "name": "python",
   "nbconvert_exporter": "python",
   "pygments_lexer": "ipython3",
   "version": "3.6.9"
  }
 },
 "nbformat": 4,
 "nbformat_minor": 2
}
